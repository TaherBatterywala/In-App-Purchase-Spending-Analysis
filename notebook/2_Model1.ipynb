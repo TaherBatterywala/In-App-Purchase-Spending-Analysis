{
 "cells": [
  {
   "cell_type": "code",
   "execution_count": 13,
   "id": "8dcf8ae2",
   "metadata": {},
   "outputs": [
    {
     "name": "stdout",
     "output_type": "stream",
     "text": [
      "Libraries imported successfully!\n"
     ]
    }
   ],
   "source": [
    "import pandas as pd\n",
    "import numpy as np\n",
    "import matplotlib.pyplot as plt\n",
    "import seaborn as sns\n",
    "from sklearn.preprocessing import StandardScaler, OneHotEncoder\n",
    "from sklearn.compose import ColumnTransformer\n",
    "from sklearn.pipeline import Pipeline\n",
    "from sklearn.cluster import KMeans\n",
    "from sklearn.metrics import silhouette_score\n",
    "from sklearn.decomposition import PCA\n",
    "import warnings\n",
    "\n",
    "warnings.filterwarnings('ignore')\n",
    "sns.set_style('whitegrid')\n",
    "print(\"Libraries imported successfully!\")"
   ]
  },
  {
   "cell_type": "code",
   "execution_count": 14,
   "id": "3a8cb7db",
   "metadata": {},
   "outputs": [],
   "source": [
    "df = pd.read_csv('data/mobile_game_inapp_purchases.csv')"
   ]
  },
  {
   "cell_type": "code",
   "execution_count": 15,
   "id": "6ed14b2b",
   "metadata": {},
   "outputs": [
    {
     "data": {
      "text/html": [
       "<div>\n",
       "<style scoped>\n",
       "    .dataframe tbody tr th:only-of-type {\n",
       "        vertical-align: middle;\n",
       "    }\n",
       "\n",
       "    .dataframe tbody tr th {\n",
       "        vertical-align: top;\n",
       "    }\n",
       "\n",
       "    .dataframe thead th {\n",
       "        text-align: right;\n",
       "    }\n",
       "</style>\n",
       "<table border=\"1\" class=\"dataframe\">\n",
       "  <thead>\n",
       "    <tr style=\"text-align: right;\">\n",
       "      <th></th>\n",
       "      <th>UserID</th>\n",
       "      <th>Age</th>\n",
       "      <th>Gender</th>\n",
       "      <th>Country</th>\n",
       "      <th>Device</th>\n",
       "      <th>GameGenre</th>\n",
       "      <th>SessionCount</th>\n",
       "      <th>AverageSessionLength</th>\n",
       "      <th>SpendingSegment</th>\n",
       "      <th>InAppPurchaseAmount</th>\n",
       "      <th>FirstPurchaseDaysAfterInstall</th>\n",
       "      <th>PaymentMethod</th>\n",
       "      <th>LastPurchaseDate</th>\n",
       "    </tr>\n",
       "  </thead>\n",
       "  <tbody>\n",
       "    <tr>\n",
       "      <th>0</th>\n",
       "      <td>c9889ab0-9cfc-4a75-acd9-5eab1df0015c</td>\n",
       "      <td>49.0</td>\n",
       "      <td>Male</td>\n",
       "      <td>Norway</td>\n",
       "      <td>Android</td>\n",
       "      <td>Battle Royale</td>\n",
       "      <td>9</td>\n",
       "      <td>12.83</td>\n",
       "      <td>Minnow</td>\n",
       "      <td>11.40</td>\n",
       "      <td>28.0</td>\n",
       "      <td>Apple Pay</td>\n",
       "      <td>2025-03-19</td>\n",
       "    </tr>\n",
       "    <tr>\n",
       "      <th>1</th>\n",
       "      <td>7c9e413c-ecca-45f2-a780-2826a07952a2</td>\n",
       "      <td>15.0</td>\n",
       "      <td>Male</td>\n",
       "      <td>Switzerland</td>\n",
       "      <td>iOS</td>\n",
       "      <td>Action RPG</td>\n",
       "      <td>11</td>\n",
       "      <td>19.39</td>\n",
       "      <td>Minnow</td>\n",
       "      <td>6.37</td>\n",
       "      <td>18.0</td>\n",
       "      <td>Debit Card</td>\n",
       "      <td>2025-06-08</td>\n",
       "    </tr>\n",
       "    <tr>\n",
       "      <th>2</th>\n",
       "      <td>fd61e419-1a92-4f43-a8c7-135842ad328a</td>\n",
       "      <td>23.0</td>\n",
       "      <td>Male</td>\n",
       "      <td>China</td>\n",
       "      <td>Android</td>\n",
       "      <td>Fighting</td>\n",
       "      <td>9</td>\n",
       "      <td>8.87</td>\n",
       "      <td>Minnow</td>\n",
       "      <td>15.81</td>\n",
       "      <td>30.0</td>\n",
       "      <td>Apple Pay</td>\n",
       "      <td>2025-06-02</td>\n",
       "    </tr>\n",
       "    <tr>\n",
       "      <th>3</th>\n",
       "      <td>bdb7f6d1-ff9a-468c-afe7-43f32a94293e</td>\n",
       "      <td>31.0</td>\n",
       "      <td>Male</td>\n",
       "      <td>Mexico</td>\n",
       "      <td>Android</td>\n",
       "      <td>Racing</td>\n",
       "      <td>12</td>\n",
       "      <td>19.56</td>\n",
       "      <td>Minnow</td>\n",
       "      <td>13.49</td>\n",
       "      <td>9.0</td>\n",
       "      <td>Debit Card</td>\n",
       "      <td>2025-04-01</td>\n",
       "    </tr>\n",
       "    <tr>\n",
       "      <th>4</th>\n",
       "      <td>aa7eec14-4846-47b9-b879-9c98038cda04</td>\n",
       "      <td>37.0</td>\n",
       "      <td>Female</td>\n",
       "      <td>India</td>\n",
       "      <td>Android</td>\n",
       "      <td>Battle Royale</td>\n",
       "      <td>10</td>\n",
       "      <td>15.23</td>\n",
       "      <td>Minnow</td>\n",
       "      <td>10.86</td>\n",
       "      <td>15.0</td>\n",
       "      <td>Paypal</td>\n",
       "      <td>2025-05-05</td>\n",
       "    </tr>\n",
       "  </tbody>\n",
       "</table>\n",
       "</div>"
      ],
      "text/plain": [
       "                                 UserID   Age  Gender      Country   Device  \\\n",
       "0  c9889ab0-9cfc-4a75-acd9-5eab1df0015c  49.0    Male       Norway  Android   \n",
       "1  7c9e413c-ecca-45f2-a780-2826a07952a2  15.0    Male  Switzerland      iOS   \n",
       "2  fd61e419-1a92-4f43-a8c7-135842ad328a  23.0    Male        China  Android   \n",
       "3  bdb7f6d1-ff9a-468c-afe7-43f32a94293e  31.0    Male       Mexico  Android   \n",
       "4  aa7eec14-4846-47b9-b879-9c98038cda04  37.0  Female        India  Android   \n",
       "\n",
       "       GameGenre  SessionCount  AverageSessionLength SpendingSegment  \\\n",
       "0  Battle Royale             9                 12.83          Minnow   \n",
       "1     Action RPG            11                 19.39          Minnow   \n",
       "2       Fighting             9                  8.87          Minnow   \n",
       "3         Racing            12                 19.56          Minnow   \n",
       "4  Battle Royale            10                 15.23          Minnow   \n",
       "\n",
       "   InAppPurchaseAmount  FirstPurchaseDaysAfterInstall PaymentMethod  \\\n",
       "0                11.40                           28.0     Apple Pay   \n",
       "1                 6.37                           18.0    Debit Card   \n",
       "2                15.81                           30.0     Apple Pay   \n",
       "3                13.49                            9.0    Debit Card   \n",
       "4                10.86                           15.0        Paypal   \n",
       "\n",
       "  LastPurchaseDate  \n",
       "0       2025-03-19  \n",
       "1       2025-06-08  \n",
       "2       2025-06-02  \n",
       "3       2025-04-01  \n",
       "4       2025-05-05  "
      ]
     },
     "execution_count": 15,
     "metadata": {},
     "output_type": "execute_result"
    }
   ],
   "source": [
    "df.head()"
   ]
  },
  {
   "cell_type": "code",
   "execution_count": 16,
   "id": "24dadf8a",
   "metadata": {},
   "outputs": [
    {
     "data": {
      "text/plain": [
       "UserID                             0\n",
       "Age                               60\n",
       "Gender                            60\n",
       "Country                           60\n",
       "Device                            60\n",
       "GameGenre                         60\n",
       "SessionCount                       0\n",
       "AverageSessionLength               0\n",
       "SpendingSegment                    0\n",
       "InAppPurchaseAmount              136\n",
       "FirstPurchaseDaysAfterInstall    136\n",
       "PaymentMethod                    136\n",
       "LastPurchaseDate                 136\n",
       "dtype: int64"
      ]
     },
     "execution_count": 16,
     "metadata": {},
     "output_type": "execute_result"
    }
   ],
   "source": [
    "df.isna().sum()"
   ]
  },
  {
   "cell_type": "code",
   "execution_count": 17,
   "id": "226eaf7f",
   "metadata": {},
   "outputs": [],
   "source": [
    "# Numerical Imputation\n",
    "df['Age'].fillna(df['Age'].median(), inplace=True)\n",
    "df['InAppPurchaseAmount'].fillna(df['InAppPurchaseAmount'].median(), inplace=True)\n",
    "df['FirstPurchaseDaysAfterInstall'].fillna(df['FirstPurchaseDaysAfterInstall'].median(), inplace=True)\n",
    "\n",
    "# Categorical Imputation\n",
    "categorical_cols_with_na = ['Gender', 'Country', 'Device', 'GameGenre', 'PaymentMethod', 'LastPurchaseDate']\n",
    "for col in categorical_cols_with_na:\n",
    "    df[col].fillna('Unknown', inplace=True)\n"
   ]
  },
  {
   "cell_type": "code",
   "execution_count": 18,
   "id": "ab67b2dd",
   "metadata": {},
   "outputs": [
    {
     "data": {
      "text/plain": [
       "UserID                           0\n",
       "Age                              0\n",
       "Gender                           0\n",
       "Country                          0\n",
       "Device                           0\n",
       "GameGenre                        0\n",
       "SessionCount                     0\n",
       "AverageSessionLength             0\n",
       "SpendingSegment                  0\n",
       "InAppPurchaseAmount              0\n",
       "FirstPurchaseDaysAfterInstall    0\n",
       "PaymentMethod                    0\n",
       "LastPurchaseDate                 0\n",
       "dtype: int64"
      ]
     },
     "execution_count": 18,
     "metadata": {},
     "output_type": "execute_result"
    }
   ],
   "source": [
    "df.isna().sum()"
   ]
  },
  {
   "cell_type": "code",
   "execution_count": 19,
   "id": "7d0b30bc",
   "metadata": {},
   "outputs": [
    {
     "name": "stdout",
     "output_type": "stream",
     "text": [
      "<class 'pandas.core.frame.DataFrame'>\n",
      "RangeIndex: 3024 entries, 0 to 3023\n",
      "Data columns (total 13 columns):\n",
      " #   Column                         Non-Null Count  Dtype  \n",
      "---  ------                         --------------  -----  \n",
      " 0   UserID                         3024 non-null   object \n",
      " 1   Age                            3024 non-null   float64\n",
      " 2   Gender                         3024 non-null   object \n",
      " 3   Country                        3024 non-null   object \n",
      " 4   Device                         3024 non-null   object \n",
      " 5   GameGenre                      3024 non-null   object \n",
      " 6   SessionCount                   3024 non-null   int64  \n",
      " 7   AverageSessionLength           3024 non-null   float64\n",
      " 8   SpendingSegment                3024 non-null   object \n",
      " 9   InAppPurchaseAmount            3024 non-null   float64\n",
      " 10  FirstPurchaseDaysAfterInstall  3024 non-null   float64\n",
      " 11  PaymentMethod                  3024 non-null   object \n",
      " 12  LastPurchaseDate               3024 non-null   object \n",
      "dtypes: float64(4), int64(1), object(8)\n",
      "memory usage: 307.3+ KB\n"
     ]
    }
   ],
   "source": [
    "df.info()"
   ]
  },
  {
   "cell_type": "code",
   "execution_count": 20,
   "id": "fa7c64b7",
   "metadata": {},
   "outputs": [],
   "source": [
    "df['LastPurchaseDate'] = pd.to_datetime(df['LastPurchaseDate'], errors='coerce')\n",
    "df['Age'] = df['Age'].astype('int64')\n",
    "df['SessionCount'] = df['SessionCount'].astype('int64')\n",
    "df['FirstPurchaseDaysAfterInstall'] = df['FirstPurchaseDaysAfterInstall'].astype('int64')"
   ]
  },
  {
   "cell_type": "code",
   "execution_count": 21,
   "id": "2e466dd6",
   "metadata": {},
   "outputs": [],
   "source": [
    "df['LastPurchaseYear'] = df['LastPurchaseDate'].dt.year\n",
    "df['LastPurchaseMonth'] = df['LastPurchaseDate'].dt.month\n",
    "df['LastPurchaseDayOfWeek'] = df['LastPurchaseDate'].dt.dayofweek\n",
    "df['LastPurchaseYear'].fillna(df['LastPurchaseYear'].median(), inplace=True)\n",
    "df['LastPurchaseMonth'].fillna(df['LastPurchaseMonth'].median(), inplace=True)\n",
    "df['LastPurchaseDayOfWeek'].fillna(df['LastPurchaseDayOfWeek'].median(), inplace=True)\n",
    "df['LastPurchaseYear'] = df['LastPurchaseYear'].astype('int64')\n",
    "df['LastPurchaseMonth'] = df['LastPurchaseMonth'].astype('int64')\n",
    "df['LastPurchaseDayOfWeek'] = df['LastPurchaseDayOfWeek'].astype('int64')\n"
   ]
  },
  {
   "cell_type": "code",
   "execution_count": 22,
   "id": "a023ed2d",
   "metadata": {},
   "outputs": [
    {
     "name": "stdout",
     "output_type": "stream",
     "text": [
      "<class 'pandas.core.frame.DataFrame'>\n",
      "RangeIndex: 3024 entries, 0 to 3023\n",
      "Data columns (total 16 columns):\n",
      " #   Column                         Non-Null Count  Dtype         \n",
      "---  ------                         --------------  -----         \n",
      " 0   UserID                         3024 non-null   object        \n",
      " 1   Age                            3024 non-null   int64         \n",
      " 2   Gender                         3024 non-null   object        \n",
      " 3   Country                        3024 non-null   object        \n",
      " 4   Device                         3024 non-null   object        \n",
      " 5   GameGenre                      3024 non-null   object        \n",
      " 6   SessionCount                   3024 non-null   int64         \n",
      " 7   AverageSessionLength           3024 non-null   float64       \n",
      " 8   SpendingSegment                3024 non-null   object        \n",
      " 9   InAppPurchaseAmount            3024 non-null   float64       \n",
      " 10  FirstPurchaseDaysAfterInstall  3024 non-null   int64         \n",
      " 11  PaymentMethod                  3024 non-null   object        \n",
      " 12  LastPurchaseDate               2888 non-null   datetime64[ns]\n",
      " 13  LastPurchaseYear               3024 non-null   int64         \n",
      " 14  LastPurchaseMonth              3024 non-null   int64         \n",
      " 15  LastPurchaseDayOfWeek          3024 non-null   int64         \n",
      "dtypes: datetime64[ns](1), float64(2), int64(6), object(7)\n",
      "memory usage: 378.1+ KB\n"
     ]
    }
   ],
   "source": [
    "df.info()"
   ]
  },
  {
   "cell_type": "code",
   "execution_count": 23,
   "id": "c2316fdd",
   "metadata": {},
   "outputs": [],
   "source": [
    "df_model = df.drop(columns=['UserID', 'LastPurchaseDate'])"
   ]
  },
  {
   "cell_type": "code",
   "execution_count": 25,
   "id": "ac8b8d2a",
   "metadata": {},
   "outputs": [
    {
     "data": {
      "text/html": [
       "<div>\n",
       "<style scoped>\n",
       "    .dataframe tbody tr th:only-of-type {\n",
       "        vertical-align: middle;\n",
       "    }\n",
       "\n",
       "    .dataframe tbody tr th {\n",
       "        vertical-align: top;\n",
       "    }\n",
       "\n",
       "    .dataframe thead th {\n",
       "        text-align: right;\n",
       "    }\n",
       "</style>\n",
       "<table border=\"1\" class=\"dataframe\">\n",
       "  <thead>\n",
       "    <tr style=\"text-align: right;\">\n",
       "      <th></th>\n",
       "      <th>Age</th>\n",
       "      <th>Gender</th>\n",
       "      <th>Country</th>\n",
       "      <th>Device</th>\n",
       "      <th>GameGenre</th>\n",
       "      <th>SessionCount</th>\n",
       "      <th>AverageSessionLength</th>\n",
       "      <th>SpendingSegment</th>\n",
       "      <th>InAppPurchaseAmount</th>\n",
       "      <th>FirstPurchaseDaysAfterInstall</th>\n",
       "      <th>PaymentMethod</th>\n",
       "      <th>LastPurchaseYear</th>\n",
       "      <th>LastPurchaseMonth</th>\n",
       "      <th>LastPurchaseDayOfWeek</th>\n",
       "    </tr>\n",
       "  </thead>\n",
       "  <tbody>\n",
       "    <tr>\n",
       "      <th>0</th>\n",
       "      <td>49</td>\n",
       "      <td>Male</td>\n",
       "      <td>Norway</td>\n",
       "      <td>Android</td>\n",
       "      <td>Battle Royale</td>\n",
       "      <td>9</td>\n",
       "      <td>12.83</td>\n",
       "      <td>Minnow</td>\n",
       "      <td>11.40</td>\n",
       "      <td>28</td>\n",
       "      <td>Apple Pay</td>\n",
       "      <td>2025</td>\n",
       "      <td>3</td>\n",
       "      <td>2</td>\n",
       "    </tr>\n",
       "    <tr>\n",
       "      <th>1</th>\n",
       "      <td>15</td>\n",
       "      <td>Male</td>\n",
       "      <td>Switzerland</td>\n",
       "      <td>iOS</td>\n",
       "      <td>Action RPG</td>\n",
       "      <td>11</td>\n",
       "      <td>19.39</td>\n",
       "      <td>Minnow</td>\n",
       "      <td>6.37</td>\n",
       "      <td>18</td>\n",
       "      <td>Debit Card</td>\n",
       "      <td>2025</td>\n",
       "      <td>6</td>\n",
       "      <td>6</td>\n",
       "    </tr>\n",
       "    <tr>\n",
       "      <th>2</th>\n",
       "      <td>23</td>\n",
       "      <td>Male</td>\n",
       "      <td>China</td>\n",
       "      <td>Android</td>\n",
       "      <td>Fighting</td>\n",
       "      <td>9</td>\n",
       "      <td>8.87</td>\n",
       "      <td>Minnow</td>\n",
       "      <td>15.81</td>\n",
       "      <td>30</td>\n",
       "      <td>Apple Pay</td>\n",
       "      <td>2025</td>\n",
       "      <td>6</td>\n",
       "      <td>0</td>\n",
       "    </tr>\n",
       "    <tr>\n",
       "      <th>3</th>\n",
       "      <td>31</td>\n",
       "      <td>Male</td>\n",
       "      <td>Mexico</td>\n",
       "      <td>Android</td>\n",
       "      <td>Racing</td>\n",
       "      <td>12</td>\n",
       "      <td>19.56</td>\n",
       "      <td>Minnow</td>\n",
       "      <td>13.49</td>\n",
       "      <td>9</td>\n",
       "      <td>Debit Card</td>\n",
       "      <td>2025</td>\n",
       "      <td>4</td>\n",
       "      <td>1</td>\n",
       "    </tr>\n",
       "    <tr>\n",
       "      <th>4</th>\n",
       "      <td>37</td>\n",
       "      <td>Female</td>\n",
       "      <td>India</td>\n",
       "      <td>Android</td>\n",
       "      <td>Battle Royale</td>\n",
       "      <td>10</td>\n",
       "      <td>15.23</td>\n",
       "      <td>Minnow</td>\n",
       "      <td>10.86</td>\n",
       "      <td>15</td>\n",
       "      <td>Paypal</td>\n",
       "      <td>2025</td>\n",
       "      <td>5</td>\n",
       "      <td>0</td>\n",
       "    </tr>\n",
       "  </tbody>\n",
       "</table>\n",
       "</div>"
      ],
      "text/plain": [
       "   Age  Gender      Country   Device      GameGenre  SessionCount  \\\n",
       "0   49    Male       Norway  Android  Battle Royale             9   \n",
       "1   15    Male  Switzerland      iOS     Action RPG            11   \n",
       "2   23    Male        China  Android       Fighting             9   \n",
       "3   31    Male       Mexico  Android         Racing            12   \n",
       "4   37  Female        India  Android  Battle Royale            10   \n",
       "\n",
       "   AverageSessionLength SpendingSegment  InAppPurchaseAmount  \\\n",
       "0                 12.83          Minnow                11.40   \n",
       "1                 19.39          Minnow                 6.37   \n",
       "2                  8.87          Minnow                15.81   \n",
       "3                 19.56          Minnow                13.49   \n",
       "4                 15.23          Minnow                10.86   \n",
       "\n",
       "   FirstPurchaseDaysAfterInstall PaymentMethod  LastPurchaseYear  \\\n",
       "0                             28     Apple Pay              2025   \n",
       "1                             18    Debit Card              2025   \n",
       "2                             30     Apple Pay              2025   \n",
       "3                              9    Debit Card              2025   \n",
       "4                             15        Paypal              2025   \n",
       "\n",
       "   LastPurchaseMonth  LastPurchaseDayOfWeek  \n",
       "0                  3                      2  \n",
       "1                  6                      6  \n",
       "2                  6                      0  \n",
       "3                  4                      1  \n",
       "4                  5                      0  "
      ]
     },
     "execution_count": 25,
     "metadata": {},
     "output_type": "execute_result"
    }
   ],
   "source": [
    "df_model.head()"
   ]
  },
  {
   "cell_type": "code",
   "execution_count": 24,
   "id": "2b78b1b3",
   "metadata": {},
   "outputs": [
    {
     "name": "stdout",
     "output_type": "stream",
     "text": [
      "Categorical Features identified: ['Gender', 'Country', 'Device', 'GameGenre', 'SpendingSegment', 'PaymentMethod']\n",
      "Numerical Features identified: ['Age', 'SessionCount', 'AverageSessionLength', 'InAppPurchaseAmount', 'FirstPurchaseDaysAfterInstall', 'LastPurchaseYear', 'LastPurchaseMonth', 'LastPurchaseDayOfWeek']\n"
     ]
    }
   ],
   "source": [
    "categorical_features = df_model.select_dtypes(include=\"object\").columns\n",
    "numerical_features = df_model.select_dtypes(exclude=\"object\").columns\n",
    "\n",
    "print(\"Categorical Features identified:\", list(categorical_features))\n",
    "print(\"Numerical Features identified:\", list(numerical_features))"
   ]
  },
  {
   "cell_type": "code",
   "execution_count": null,
   "id": "9f630a4d",
   "metadata": {},
   "outputs": [],
   "source": []
  },
  {
   "cell_type": "code",
   "execution_count": null,
   "id": "87cc6d08",
   "metadata": {},
   "outputs": [],
   "source": []
  },
  {
   "cell_type": "code",
   "execution_count": null,
   "id": "7d42a338",
   "metadata": {},
   "outputs": [],
   "source": []
  },
  {
   "cell_type": "code",
   "execution_count": null,
   "id": "a613dbad",
   "metadata": {},
   "outputs": [],
   "source": []
  },
  {
   "cell_type": "code",
   "execution_count": null,
   "id": "dc33f7d4",
   "metadata": {},
   "outputs": [],
   "source": []
  },
  {
   "cell_type": "code",
   "execution_count": null,
   "id": "4c4677eb",
   "metadata": {},
   "outputs": [],
   "source": []
  },
  {
   "cell_type": "code",
   "execution_count": null,
   "id": "1f2fa6f1",
   "metadata": {},
   "outputs": [],
   "source": []
  },
  {
   "cell_type": "code",
   "execution_count": null,
   "id": "6ea4212e",
   "metadata": {},
   "outputs": [],
   "source": []
  },
  {
   "cell_type": "code",
   "execution_count": null,
   "id": "b38504b2",
   "metadata": {},
   "outputs": [],
   "source": []
  },
  {
   "cell_type": "code",
   "execution_count": null,
   "id": "86ef38c9",
   "metadata": {},
   "outputs": [],
   "source": []
  },
  {
   "cell_type": "code",
   "execution_count": null,
   "id": "48efacef",
   "metadata": {},
   "outputs": [],
   "source": []
  },
  {
   "cell_type": "code",
   "execution_count": null,
   "id": "af16f9f3",
   "metadata": {},
   "outputs": [],
   "source": []
  },
  {
   "cell_type": "code",
   "execution_count": null,
   "id": "cb698406",
   "metadata": {},
   "outputs": [],
   "source": []
  }
 ],
 "metadata": {
  "kernelspec": {
   "display_name": "Python 3",
   "language": "python",
   "name": "python3"
  },
  "language_info": {
   "codemirror_mode": {
    "name": "ipython",
    "version": 3
   },
   "file_extension": ".py",
   "mimetype": "text/x-python",
   "name": "python",
   "nbconvert_exporter": "python",
   "pygments_lexer": "ipython3",
   "version": "3.11.5"
  }
 },
 "nbformat": 4,
 "nbformat_minor": 5
}
