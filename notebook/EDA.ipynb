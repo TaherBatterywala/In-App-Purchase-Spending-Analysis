{
 "cells": [
  {
   "cell_type": "code",
   "execution_count": 24,
   "id": "05969e30",
   "metadata": {},
   "outputs": [],
   "source": [
    "import numpy as np\n",
    "import pandas as pd\n",
    "import seaborn as sns\n",
    "import matplotlib.pyplot as plt\n",
    "%matplotlib inline\n",
    "import warnings\n",
    "warnings.filterwarnings('ignore')"
   ]
  },
  {
   "cell_type": "code",
   "execution_count": 25,
   "id": "ace5111d",
   "metadata": {},
   "outputs": [],
   "source": [
    "df = pd.read_csv('data/mobile_game_inapp_purchases.csv')"
   ]
  },
  {
   "cell_type": "code",
   "execution_count": 26,
   "id": "d16c1020",
   "metadata": {},
   "outputs": [
    {
     "data": {
      "text/html": [
       "<div>\n",
       "<style scoped>\n",
       "    .dataframe tbody tr th:only-of-type {\n",
       "        vertical-align: middle;\n",
       "    }\n",
       "\n",
       "    .dataframe tbody tr th {\n",
       "        vertical-align: top;\n",
       "    }\n",
       "\n",
       "    .dataframe thead th {\n",
       "        text-align: right;\n",
       "    }\n",
       "</style>\n",
       "<table border=\"1\" class=\"dataframe\">\n",
       "  <thead>\n",
       "    <tr style=\"text-align: right;\">\n",
       "      <th></th>\n",
       "      <th>UserID</th>\n",
       "      <th>Age</th>\n",
       "      <th>Gender</th>\n",
       "      <th>Country</th>\n",
       "      <th>Device</th>\n",
       "      <th>GameGenre</th>\n",
       "      <th>SessionCount</th>\n",
       "      <th>AverageSessionLength</th>\n",
       "      <th>SpendingSegment</th>\n",
       "      <th>InAppPurchaseAmount</th>\n",
       "      <th>FirstPurchaseDaysAfterInstall</th>\n",
       "      <th>PaymentMethod</th>\n",
       "      <th>LastPurchaseDate</th>\n",
       "    </tr>\n",
       "  </thead>\n",
       "  <tbody>\n",
       "    <tr>\n",
       "      <th>0</th>\n",
       "      <td>c9889ab0-9cfc-4a75-acd9-5eab1df0015c</td>\n",
       "      <td>49.0</td>\n",
       "      <td>Male</td>\n",
       "      <td>Norway</td>\n",
       "      <td>Android</td>\n",
       "      <td>Battle Royale</td>\n",
       "      <td>9</td>\n",
       "      <td>12.83</td>\n",
       "      <td>Minnow</td>\n",
       "      <td>11.40</td>\n",
       "      <td>28.0</td>\n",
       "      <td>Apple Pay</td>\n",
       "      <td>2025-03-19</td>\n",
       "    </tr>\n",
       "    <tr>\n",
       "      <th>1</th>\n",
       "      <td>7c9e413c-ecca-45f2-a780-2826a07952a2</td>\n",
       "      <td>15.0</td>\n",
       "      <td>Male</td>\n",
       "      <td>Switzerland</td>\n",
       "      <td>iOS</td>\n",
       "      <td>Action RPG</td>\n",
       "      <td>11</td>\n",
       "      <td>19.39</td>\n",
       "      <td>Minnow</td>\n",
       "      <td>6.37</td>\n",
       "      <td>18.0</td>\n",
       "      <td>Debit Card</td>\n",
       "      <td>2025-06-08</td>\n",
       "    </tr>\n",
       "    <tr>\n",
       "      <th>2</th>\n",
       "      <td>fd61e419-1a92-4f43-a8c7-135842ad328a</td>\n",
       "      <td>23.0</td>\n",
       "      <td>Male</td>\n",
       "      <td>China</td>\n",
       "      <td>Android</td>\n",
       "      <td>Fighting</td>\n",
       "      <td>9</td>\n",
       "      <td>8.87</td>\n",
       "      <td>Minnow</td>\n",
       "      <td>15.81</td>\n",
       "      <td>30.0</td>\n",
       "      <td>Apple Pay</td>\n",
       "      <td>2025-06-02</td>\n",
       "    </tr>\n",
       "    <tr>\n",
       "      <th>3</th>\n",
       "      <td>bdb7f6d1-ff9a-468c-afe7-43f32a94293e</td>\n",
       "      <td>31.0</td>\n",
       "      <td>Male</td>\n",
       "      <td>Mexico</td>\n",
       "      <td>Android</td>\n",
       "      <td>Racing</td>\n",
       "      <td>12</td>\n",
       "      <td>19.56</td>\n",
       "      <td>Minnow</td>\n",
       "      <td>13.49</td>\n",
       "      <td>9.0</td>\n",
       "      <td>Debit Card</td>\n",
       "      <td>2025-04-01</td>\n",
       "    </tr>\n",
       "    <tr>\n",
       "      <th>4</th>\n",
       "      <td>aa7eec14-4846-47b9-b879-9c98038cda04</td>\n",
       "      <td>37.0</td>\n",
       "      <td>Female</td>\n",
       "      <td>India</td>\n",
       "      <td>Android</td>\n",
       "      <td>Battle Royale</td>\n",
       "      <td>10</td>\n",
       "      <td>15.23</td>\n",
       "      <td>Minnow</td>\n",
       "      <td>10.86</td>\n",
       "      <td>15.0</td>\n",
       "      <td>Paypal</td>\n",
       "      <td>2025-05-05</td>\n",
       "    </tr>\n",
       "  </tbody>\n",
       "</table>\n",
       "</div>"
      ],
      "text/plain": [
       "                                 UserID   Age  Gender      Country   Device  \\\n",
       "0  c9889ab0-9cfc-4a75-acd9-5eab1df0015c  49.0    Male       Norway  Android   \n",
       "1  7c9e413c-ecca-45f2-a780-2826a07952a2  15.0    Male  Switzerland      iOS   \n",
       "2  fd61e419-1a92-4f43-a8c7-135842ad328a  23.0    Male        China  Android   \n",
       "3  bdb7f6d1-ff9a-468c-afe7-43f32a94293e  31.0    Male       Mexico  Android   \n",
       "4  aa7eec14-4846-47b9-b879-9c98038cda04  37.0  Female        India  Android   \n",
       "\n",
       "       GameGenre  SessionCount  AverageSessionLength SpendingSegment  \\\n",
       "0  Battle Royale             9                 12.83          Minnow   \n",
       "1     Action RPG            11                 19.39          Minnow   \n",
       "2       Fighting             9                  8.87          Minnow   \n",
       "3         Racing            12                 19.56          Minnow   \n",
       "4  Battle Royale            10                 15.23          Minnow   \n",
       "\n",
       "   InAppPurchaseAmount  FirstPurchaseDaysAfterInstall PaymentMethod  \\\n",
       "0                11.40                           28.0     Apple Pay   \n",
       "1                 6.37                           18.0    Debit Card   \n",
       "2                15.81                           30.0     Apple Pay   \n",
       "3                13.49                            9.0    Debit Card   \n",
       "4                10.86                           15.0        Paypal   \n",
       "\n",
       "  LastPurchaseDate  \n",
       "0       2025-03-19  \n",
       "1       2025-06-08  \n",
       "2       2025-06-02  \n",
       "3       2025-04-01  \n",
       "4       2025-05-05  "
      ]
     },
     "execution_count": 26,
     "metadata": {},
     "output_type": "execute_result"
    }
   ],
   "source": [
    "df.head()"
   ]
  },
  {
   "cell_type": "code",
   "execution_count": 27,
   "id": "b5c3c7d8",
   "metadata": {},
   "outputs": [
    {
     "data": {
      "text/plain": [
       "(3024, 13)"
      ]
     },
     "execution_count": 27,
     "metadata": {},
     "output_type": "execute_result"
    }
   ],
   "source": [
    "df.shape"
   ]
  },
  {
   "cell_type": "code",
   "execution_count": 28,
   "id": "93f31bab",
   "metadata": {},
   "outputs": [
    {
     "name": "stdout",
     "output_type": "stream",
     "text": [
      "<class 'pandas.core.frame.DataFrame'>\n",
      "RangeIndex: 3024 entries, 0 to 3023\n",
      "Data columns (total 13 columns):\n",
      " #   Column                         Non-Null Count  Dtype  \n",
      "---  ------                         --------------  -----  \n",
      " 0   UserID                         3024 non-null   object \n",
      " 1   Age                            2964 non-null   float64\n",
      " 2   Gender                         2964 non-null   object \n",
      " 3   Country                        2964 non-null   object \n",
      " 4   Device                         2964 non-null   object \n",
      " 5   GameGenre                      2964 non-null   object \n",
      " 6   SessionCount                   3024 non-null   int64  \n",
      " 7   AverageSessionLength           3024 non-null   float64\n",
      " 8   SpendingSegment                3024 non-null   object \n",
      " 9   InAppPurchaseAmount            2888 non-null   float64\n",
      " 10  FirstPurchaseDaysAfterInstall  2888 non-null   float64\n",
      " 11  PaymentMethod                  2888 non-null   object \n",
      " 12  LastPurchaseDate               2888 non-null   object \n",
      "dtypes: float64(4), int64(1), object(8)\n",
      "memory usage: 307.3+ KB\n"
     ]
    }
   ],
   "source": [
    "df.info()"
   ]
  },
  {
   "cell_type": "code",
   "execution_count": 29,
   "id": "da6ae089",
   "metadata": {},
   "outputs": [
    {
     "data": {
      "text/html": [
       "<div>\n",
       "<style scoped>\n",
       "    .dataframe tbody tr th:only-of-type {\n",
       "        vertical-align: middle;\n",
       "    }\n",
       "\n",
       "    .dataframe tbody tr th {\n",
       "        vertical-align: top;\n",
       "    }\n",
       "\n",
       "    .dataframe thead th {\n",
       "        text-align: right;\n",
       "    }\n",
       "</style>\n",
       "<table border=\"1\" class=\"dataframe\">\n",
       "  <thead>\n",
       "    <tr style=\"text-align: right;\">\n",
       "      <th></th>\n",
       "      <th>Age</th>\n",
       "      <th>SessionCount</th>\n",
       "      <th>AverageSessionLength</th>\n",
       "      <th>InAppPurchaseAmount</th>\n",
       "      <th>FirstPurchaseDaysAfterInstall</th>\n",
       "    </tr>\n",
       "  </thead>\n",
       "  <tbody>\n",
       "    <tr>\n",
       "      <th>count</th>\n",
       "      <td>2964.000000</td>\n",
       "      <td>3024.000000</td>\n",
       "      <td>3024.000000</td>\n",
       "      <td>2888.000000</td>\n",
       "      <td>2888.000000</td>\n",
       "    </tr>\n",
       "    <tr>\n",
       "      <th>mean</th>\n",
       "      <td>33.533738</td>\n",
       "      <td>10.074735</td>\n",
       "      <td>20.073978</td>\n",
       "      <td>102.582864</td>\n",
       "      <td>15.384003</td>\n",
       "    </tr>\n",
       "    <tr>\n",
       "      <th>std</th>\n",
       "      <td>11.992258</td>\n",
       "      <td>3.115863</td>\n",
       "      <td>8.585208</td>\n",
       "      <td>454.339708</td>\n",
       "      <td>8.946191</td>\n",
       "    </tr>\n",
       "    <tr>\n",
       "      <th>min</th>\n",
       "      <td>13.000000</td>\n",
       "      <td>1.000000</td>\n",
       "      <td>5.010000</td>\n",
       "      <td>0.000000</td>\n",
       "      <td>0.000000</td>\n",
       "    </tr>\n",
       "    <tr>\n",
       "      <th>25%</th>\n",
       "      <td>23.000000</td>\n",
       "      <td>8.000000</td>\n",
       "      <td>12.680000</td>\n",
       "      <td>5.987500</td>\n",
       "      <td>8.000000</td>\n",
       "    </tr>\n",
       "    <tr>\n",
       "      <th>50%</th>\n",
       "      <td>33.000000</td>\n",
       "      <td>10.000000</td>\n",
       "      <td>20.315000</td>\n",
       "      <td>11.975000</td>\n",
       "      <td>16.000000</td>\n",
       "    </tr>\n",
       "    <tr>\n",
       "      <th>75%</th>\n",
       "      <td>44.000000</td>\n",
       "      <td>12.000000</td>\n",
       "      <td>27.420000</td>\n",
       "      <td>17.762500</td>\n",
       "      <td>23.000000</td>\n",
       "    </tr>\n",
       "    <tr>\n",
       "      <th>max</th>\n",
       "      <td>54.000000</td>\n",
       "      <td>22.000000</td>\n",
       "      <td>34.990000</td>\n",
       "      <td>4964.450000</td>\n",
       "      <td>30.000000</td>\n",
       "    </tr>\n",
       "  </tbody>\n",
       "</table>\n",
       "</div>"
      ],
      "text/plain": [
       "               Age  SessionCount  AverageSessionLength  InAppPurchaseAmount  \\\n",
       "count  2964.000000   3024.000000           3024.000000          2888.000000   \n",
       "mean     33.533738     10.074735             20.073978           102.582864   \n",
       "std      11.992258      3.115863              8.585208           454.339708   \n",
       "min      13.000000      1.000000              5.010000             0.000000   \n",
       "25%      23.000000      8.000000             12.680000             5.987500   \n",
       "50%      33.000000     10.000000             20.315000            11.975000   \n",
       "75%      44.000000     12.000000             27.420000            17.762500   \n",
       "max      54.000000     22.000000             34.990000          4964.450000   \n",
       "\n",
       "       FirstPurchaseDaysAfterInstall  \n",
       "count                    2888.000000  \n",
       "mean                       15.384003  \n",
       "std                         8.946191  \n",
       "min                         0.000000  \n",
       "25%                         8.000000  \n",
       "50%                        16.000000  \n",
       "75%                        23.000000  \n",
       "max                        30.000000  "
      ]
     },
     "execution_count": 29,
     "metadata": {},
     "output_type": "execute_result"
    }
   ],
   "source": [
    "df.describe()"
   ]
  },
  {
   "cell_type": "code",
   "execution_count": 30,
   "id": "e65425a0",
   "metadata": {},
   "outputs": [
    {
     "data": {
      "text/plain": [
       "UserID                             0\n",
       "Age                               60\n",
       "Gender                            60\n",
       "Country                           60\n",
       "Device                            60\n",
       "GameGenre                         60\n",
       "SessionCount                       0\n",
       "AverageSessionLength               0\n",
       "SpendingSegment                    0\n",
       "InAppPurchaseAmount              136\n",
       "FirstPurchaseDaysAfterInstall    136\n",
       "PaymentMethod                    136\n",
       "LastPurchaseDate                 136\n",
       "dtype: int64"
      ]
     },
     "execution_count": 30,
     "metadata": {},
     "output_type": "execute_result"
    }
   ],
   "source": [
    "df.isna().sum()"
   ]
  },
  {
   "cell_type": "code",
   "execution_count": 31,
   "id": "b51ed814",
   "metadata": {},
   "outputs": [
    {
     "name": "stdout",
     "output_type": "stream",
     "text": [
      "Missing values have been imputed with a more robust strategy.\n"
     ]
    },
    {
     "data": {
      "text/plain": [
       "UserID                           0\n",
       "Age                              0\n",
       "Gender                           0\n",
       "Country                          0\n",
       "Device                           0\n",
       "GameGenre                        0\n",
       "SessionCount                     0\n",
       "AverageSessionLength             0\n",
       "SpendingSegment                  0\n",
       "InAppPurchaseAmount              0\n",
       "FirstPurchaseDaysAfterInstall    0\n",
       "PaymentMethod                    0\n",
       "LastPurchaseDate                 0\n",
       "dtype: int64"
      ]
     },
     "execution_count": 31,
     "metadata": {},
     "output_type": "execute_result"
    }
   ],
   "source": [
    "#Handling Missing Value \n",
    "\n",
    "df['Age'].fillna(df['Age'].median(), inplace=True)\n",
    "df['InAppPurchaseAmount'].fillna(df['InAppPurchaseAmount'].median(), inplace=True)\n",
    "df['FirstPurchaseDaysAfterInstall'].fillna(df['FirstPurchaseDaysAfterInstall'].median(), inplace=True)\n",
    "\n",
    "categorical_cols_with_na = ['Gender', 'Country', 'Device', 'GameGenre', 'PaymentMethod', 'LastPurchaseDate']\n",
    "for col in categorical_cols_with_na:\n",
    "    df[col].fillna('Unknown', inplace=True)\n",
    "\n",
    "print(\"Missing values have been imputed with a more robust strategy.\")\n",
    "df.isna().sum()"
   ]
  },
  {
   "cell_type": "code",
   "execution_count": 32,
   "id": "c91b1dc0",
   "metadata": {},
   "outputs": [
    {
     "data": {
      "text/plain": [
       "0"
      ]
     },
     "execution_count": 32,
     "metadata": {},
     "output_type": "execute_result"
    }
   ],
   "source": [
    "df.duplicated().sum()"
   ]
  },
  {
   "cell_type": "code",
   "execution_count": 33,
   "id": "909de343",
   "metadata": {},
   "outputs": [
    {
     "data": {
      "text/plain": [
       "UserID                           3024\n",
       "Age                                42\n",
       "Gender                              4\n",
       "Country                            28\n",
       "Device                              3\n",
       "GameGenre                          16\n",
       "SessionCount                       21\n",
       "AverageSessionLength             1915\n",
       "SpendingSegment                     3\n",
       "InAppPurchaseAmount              1840\n",
       "FirstPurchaseDaysAfterInstall      31\n",
       "PaymentMethod                       8\n",
       "LastPurchaseDate                  226\n",
       "dtype: int64"
      ]
     },
     "execution_count": 33,
     "metadata": {},
     "output_type": "execute_result"
    }
   ],
   "source": [
    "df.nunique()"
   ]
  },
  {
   "cell_type": "code",
   "execution_count": 35,
   "id": "a8e6edfd",
   "metadata": {},
   "outputs": [
    {
     "name": "stdout",
     "output_type": "stream",
     "text": [
      "Categories in 'gender' variable:      ['Male' 'Female' 'Other' 'Unknown']\n",
      "Categories in 'Device' variable:   ['Android' 'iOS' 'Unknown']\n"
     ]
    }
   ],
   "source": [
    "print(\"Categories in 'gender' variable:     \",end=\" \" )\n",
    "print(df['Gender'].unique())\n",
    "\n",
    "print(\"Categories in 'Device' variable:  \",end=\" \")\n",
    "print(df['Device'].unique())\n"
   ]
  },
  {
   "cell_type": "code",
   "execution_count": null,
   "id": "fffe57b6",
   "metadata": {},
   "outputs": [],
   "source": []
  },
  {
   "cell_type": "code",
   "execution_count": null,
   "id": "7a66bbad",
   "metadata": {},
   "outputs": [],
   "source": []
  },
  {
   "cell_type": "code",
   "execution_count": null,
   "id": "848f9fcc",
   "metadata": {},
   "outputs": [],
   "source": []
  },
  {
   "cell_type": "code",
   "execution_count": null,
   "id": "887c69cd",
   "metadata": {},
   "outputs": [],
   "source": []
  },
  {
   "cell_type": "code",
   "execution_count": null,
   "id": "9ceb51e2",
   "metadata": {},
   "outputs": [],
   "source": []
  },
  {
   "cell_type": "code",
   "execution_count": null,
   "id": "689975a2",
   "metadata": {},
   "outputs": [],
   "source": []
  },
  {
   "cell_type": "code",
   "execution_count": null,
   "id": "c3000209",
   "metadata": {},
   "outputs": [],
   "source": []
  },
  {
   "cell_type": "code",
   "execution_count": null,
   "id": "75eb7fff",
   "metadata": {},
   "outputs": [],
   "source": []
  },
  {
   "cell_type": "code",
   "execution_count": null,
   "id": "95cec311",
   "metadata": {},
   "outputs": [],
   "source": []
  }
 ],
 "metadata": {
  "kernelspec": {
   "display_name": "Python 3",
   "language": "python",
   "name": "python3"
  },
  "language_info": {
   "codemirror_mode": {
    "name": "ipython",
    "version": 3
   },
   "file_extension": ".py",
   "mimetype": "text/x-python",
   "name": "python",
   "nbconvert_exporter": "python",
   "pygments_lexer": "ipython3",
   "version": "3.11.5"
  }
 },
 "nbformat": 4,
 "nbformat_minor": 5
}
